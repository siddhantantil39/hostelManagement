{
 "cells": [
  {
   "cell_type": "code",
   "execution_count": 1,
   "id": "81f9f2c4",
   "metadata": {},
   "outputs": [],
   "source": [
    "import pandas as pd\n",
    "import numpy as np\n",
    "from sklearn.feature_extraction.text import CountVectorizer\n",
    "from sklearn.metrics.pairwise import cosine_similarity"
   ]
  },
  {
   "cell_type": "code",
   "execution_count": 2,
   "id": "c6e07861",
   "metadata": {},
   "outputs": [],
   "source": [
    "def get_data():\n",
    "    df = pd.read_csv(\"hostelData.csv\")\n",
    "    df['index'] = df.index\n",
    "    #df.set_index(\"USN\", inplace = True)\n",
    "    return df"
   ]
  },
  {
   "cell_type": "code",
   "execution_count": 3,
   "id": "83cfa497",
   "metadata": {},
   "outputs": [],
   "source": [
    "def formatDate(df):\n",
    "    df['DOB'] = df.birthdate[0:3]\n",
    "    return df"
   ]
  },
  {
   "cell_type": "code",
   "execution_count": 4,
   "id": "be6eac39",
   "metadata": {},
   "outputs": [],
   "source": [
    "def combine_data(df):\n",
    "    df = formatDate(df)\n",
    "    features = ['DOB','state','branch','year','nature','sleepEarly','sportslike','study','singing','movies']\n",
    "    for feature in features:\n",
    "        df[feature] = df[feature].fillna('')\n",
    "    df[\"combined_features\"] = df.apply(combine_features,axis=1)\n",
    "    return df\n"
   ]
  },
  {
   "cell_type": "code",
   "execution_count": 5,
   "id": "19c743b9",
   "metadata": {},
   "outputs": [],
   "source": [
    "\n",
    "def combine_features(row):\n",
    "    return str(row['DOB'])+\" \"+row['state']+\" \"+row['branch']+\" \"+row['year']+\" \"+row['nature']+\" \"+row['sleepEarly']+\" \"+row['sportslike']+\" \"+row['study']+\" \"+row['singing']+\" \"+row['movies']\n",
    "    "
   ]
  },
  {
   "cell_type": "code",
   "execution_count": 6,
   "id": "9295baae",
   "metadata": {},
   "outputs": [],
   "source": [
    "def transform_data(combine,data):\n",
    "    cv = CountVectorizer()\n",
    "    count_matrix = cv.fit_transform(combine[\"combined_features\"])\n",
    "    #feeding combined strings(data contents) to CountVectorizer() object\n",
    "    cosine_sim = cosine_similarity(count_matrix)\n",
    "    return cosine_sim\n",
    "    "
   ]
  },
  {
   "cell_type": "code",
   "execution_count": 7,
   "id": "3e1e09df",
   "metadata": {},
   "outputs": [],
   "source": [
    "def get_title_from_index(index):\n",
    "    find_data = get_data()\n",
    "    return find_data[find_data.index == index][\"usn\"].values[0]\n",
    "def get_index_from_title(USN):\n",
    "    find_data = get_data()\n",
    "    return find_data[find_data.usn == USN][\"index\"].values[0]\n",
    "\n"
   ]
  },
  {
   "cell_type": "code",
   "execution_count": 8,
   "id": "b2edff57",
   "metadata": {},
   "outputs": [],
   "source": [
    "def recommend(usn,data,combine,transform):\n",
    "    recommendations = []\n",
    "    USN_index = get_index_from_title(usn)\n",
    "    similar_people =  list(enumerate(transform[USN_index]))\n",
    "    sorted_similar = sorted(similar_people,key=lambda x:x[1],reverse=True)[1:]\n",
    "    i=0\n",
    "    for element in sorted_similar:\n",
    "        #print(get_title_from_index(element[0]))\n",
    "        recommendations.append(get_title_from_index(element[0]))\n",
    "        i=i+1\n",
    "        if i>=5:\n",
    "            break\n",
    "    return recommendations"
   ]
  },
  {
   "cell_type": "code",
   "execution_count": 15,
   "id": "9f224084",
   "metadata": {},
   "outputs": [],
   "source": [
    "def results(usn):\n",
    "    data = get_data()\n",
    "    combine = combine_data(data)\n",
    "    transform = transform_data(combine,data)\n",
    "    recommendations = []\n",
    "    if usn not in data['usn'].unique():\n",
    "        return 'USN not in Database'\n",
    "    else:\n",
    "        recommendations = recommend(usn,data,combine,transform)\n",
    "        #print(recommendations)\n",
    "        return recommendations\n",
    "        \n",
    " "
   ]
  },
  {
   "cell_type": "code",
   "execution_count": 16,
   "id": "958681d4",
   "metadata": {},
   "outputs": [
    {
     "data": {
      "text/plain": [
       "['1si18cs064']"
      ]
     },
     "execution_count": 16,
     "metadata": {},
     "output_type": "execute_result"
    }
   ],
   "source": [
    "results(\"1si18cs083\")"
   ]
  },
  {
   "cell_type": "code",
   "execution_count": 14,
   "id": "ce829ec5",
   "metadata": {},
   "outputs": [],
   "source": [
    "#TODO\n",
    "#Add user with arbitary room no. 999 to not mess up undexing at the \n",
    "#bottom\n",
    "#Add him in the beginning\n",
    "#At last append room no. by which he selects after suggestion\n"
   ]
  },
  {
   "cell_type": "code",
   "execution_count": null,
   "id": "34a2baf5",
   "metadata": {},
   "outputs": [],
   "source": [
    "import pickle\n",
    "import requests\n",
    "import json"
   ]
  },
  {
   "cell_type": "code",
   "execution_count": null,
   "id": "f554fe69",
   "metadata": {},
   "outputs": [],
   "source": [
    "pickle.dump(re)"
   ]
  },
  {
   "cell_type": "code",
   "execution_count": null,
   "id": "9b0dbdf9",
   "metadata": {},
   "outputs": [],
   "source": []
  }
 ],
 "metadata": {
  "kernelspec": {
   "display_name": "Python 3 (ipykernel)",
   "language": "python",
   "name": "python3"
  },
  "language_info": {
   "codemirror_mode": {
    "name": "ipython",
    "version": 3
   },
   "file_extension": ".py",
   "mimetype": "text/x-python",
   "name": "python",
   "nbconvert_exporter": "python",
   "pygments_lexer": "ipython3",
   "version": "3.9.7"
  }
 },
 "nbformat": 4,
 "nbformat_minor": 5
}
